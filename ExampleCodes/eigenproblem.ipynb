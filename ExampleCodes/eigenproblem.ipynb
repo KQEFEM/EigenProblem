{
 "cells": [
  {
   "cell_type": "code",
   "execution_count": null,
   "metadata": {},
   "outputs": [],
   "source": [
    "import importlib.util\n",
    "\n",
    "if importlib.util.find_spec(\"petsc4py\") is not None:\n",
    "    import dolfinx\n",
    "\n",
    "    if not dolfinx.has_petsc:\n",
    "        print(\"This demo requires DOLFINx to be compiled with PETSc enabled.\")\n",
    "        exit(0)\n",
    "    from petsc4py.PETSc import ScalarType  # type: ignore\n",
    "else:\n",
    "    print(\"This demo requires petsc4py.\")\n",
    "    exit(0)\n",
    "\n",
    "from mpi4py import MPI\n",
    "\n",
    "# +\n",
    "import numpy as np\n",
    "\n",
    "import ufl\n",
    "from dolfinx import fem, io, mesh, plot\n",
    "from dolfinx.fem.petsc import LinearProblem\n",
    "from ufl import ds, dx, grad, inner"
   ]
  },
  {
   "cell_type": "markdown",
   "metadata": {},
   "source": [
    "Creating the mesh and function space"
   ]
  },
  {
   "cell_type": "code",
   "execution_count": null,
   "metadata": {},
   "outputs": [],
   "source": [
    "msh = mesh.create_rectangle(\n",
    "    comm=MPI.COMM_WORLD,\n",
    "    points=((0.0, 0.0), (2.0, 1.0)),\n",
    "    n=(32, 16),\n",
    "    cell_type=mesh.CellType.triangle,\n",
    ")\n",
    "V = fem.functionspace(msh, (\"Lagrange\", 1))"
   ]
  },
  {
   "cell_type": "markdown",
   "metadata": {},
   "source": [
    " To apply the Dirichlet boundary conditions, we find the mesh facets\n",
    " (entities of topological co-dimension 1) that lie on the boundary\n",
    " $\\Gamma_D$ using {py:func}`locate_entities_boundary\n",
    "<dolfinx.mesh.locate_entities_boundary>`. The function is provided\n",
    " with a 'marker' function that returns `True` for points `x` on the\n",
    "boundary and `False` otherwise."
   ]
  },
  {
   "cell_type": "code",
   "execution_count": null,
   "metadata": {},
   "outputs": [],
   "source": [
    "facets = mesh.locate_entities_boundary(\n",
    "    msh,\n",
    "    dim=(msh.topology.dim - 1),\n",
    "    marker=lambda x: np.isclose(x[0], 0.0) | np.isclose(x[0], 2.0),\n",
    ")"
   ]
  },
  {
   "cell_type": "markdown",
   "metadata": {},
   "source": [
    "We now find the degrees-of-freedom that are associated with the\n",
    "boundary facets using {py:func}`locate_dofs_topological\n",
    "<dolfinx.fem.locate_dofs_topological>`:\n",
    "\n",
    "and use {py:func}`dirichletbc <dolfinx.fem.dirichletbc>` to create a\n",
    "{py:class}`DirichletBC <dolfinx.fem.DirichletBC>` class that\n",
    "represents the boundary condition:"
   ]
  },
  {
   "cell_type": "code",
   "execution_count": null,
   "metadata": {},
   "outputs": [],
   "source": [
    "dofs = fem.locate_dofs_topological(V=V, entity_dim=1, entities=facets)\n",
    "bc = fem.dirichletbc(value=ScalarType(0), dofs=dofs, V=V)\n"
   ]
  },
  {
   "cell_type": "markdown",
   "metadata": {},
   "source": [
    "Next we define the variationaly formulation:\n",
    "\n",
    "$$ \\nabla \\times  \\left(\\frac{1}{\\mu} \\nabla \\times \\mathbf{E}(\\mathbf{r},\\omega) \\right) = \\omega^2 \\varepsilon \\mathbf{E}(\\mathbf{r},\\omega) $$"
   ]
  }
 ],
 "metadata": {
  "language_info": {
   "name": "python"
  }
 },
 "nbformat": 4,
 "nbformat_minor": 2
}
