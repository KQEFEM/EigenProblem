{
 "cells": [
  {
   "cell_type": "code",
   "execution_count": 12,
   "metadata": {},
   "outputs": [],
   "source": [
    "import importlib.util\n",
    "\n",
    "if importlib.util.find_spec(\"petsc4py\") is not None:\n",
    "    import dolfinx\n",
    "\n",
    "    if not dolfinx.has_petsc:\n",
    "        print(\"This demo requires DOLFINx to be compiled with PETSc enabled.\")\n",
    "        exit(0)\n",
    "    from petsc4py.PETSc import ScalarType  # type: ignore\n",
    "else:\n",
    "    print(\"This demo requires petsc4py.\")\n",
    "    exit(0)\n",
    "\n",
    "from mpi4py import MPI\n",
    "\n",
    "# +\n",
    "import numpy as np\n",
    "\n",
    "import ufl\n",
    "from dolfinx import fem, io, mesh, plot\n",
    "from dolfinx.mesh import create_box\n",
    "from dolfinx.fem.petsc import LinearProblem\n",
    "from dolfinx.fem import FunctionSpace\n",
    "\n",
    "from ufl import ds, dx, grad, inner"
   ]
  },
  {
   "cell_type": "markdown",
   "metadata": {},
   "source": [
    "Creating the mesh and function space"
   ]
  },
  {
   "cell_type": "code",
   "execution_count": 19,
   "metadata": {},
   "outputs": [
    {
     "name": "stdout",
     "output_type": "stream",
     "text": [
      "<dolfinx.mesh.Mesh object at 0x7f640b089e00>\n"
     ]
    }
   ],
   "source": [
    "# msh1 = mesh.create_unit_cube(\n",
    "#     comm=MPI.COMM_WORLD,\n",
    "#     nx=32,\n",
    "#     ny=16,\n",
    "#     nz=8,\n",
    "#     cell_type=mesh.CellType.tetrahedron  # Or mesh.CellType.hexahedron\n",
    "# )\n",
    "\n",
    "msh1 = create_box(\n",
    "    comm=MPI.COMM_WORLD,\n",
    "    points=[(0.0, 0.0, 0.0), (3.0, 2.0, 1.0)],\n",
    "    n=[30, 20, 10],\n",
    "    cell_type=mesh.CellType.tetrahedron,\n",
    ")\n",
    "print(msh1)"
   ]
  },
  {
   "cell_type": "markdown",
   "metadata": {},
   "source": [
    "It is recommended in papers to use Nedric elements (I don't know much about these)"
   ]
  },
  {
   "cell_type": "code",
   "execution_count": null,
   "metadata": {},
   "outputs": [
    {
     "name": "stdout",
     "output_type": "stream",
     "text": [
      "<class 'dolfinx.mesh.Mesh'>\n"
     ]
    },
    {
     "ename": "AttributeError",
     "evalue": "'int' object has no attribute 'mesh'",
     "output_type": "error",
     "traceback": [
      "\u001b[0;31m---------------------------------------------------------------------------\u001b[0m",
      "\u001b[0;31mAttributeError\u001b[0m                            Traceback (most recent call last)",
      "Cell \u001b[0;32mIn[20], line 2\u001b[0m\n\u001b[1;32m      1\u001b[0m \u001b[38;5;28mprint\u001b[39m(\u001b[38;5;28mtype\u001b[39m(msh1))\n\u001b[0;32m----> 2\u001b[0m V \u001b[38;5;241m=\u001b[39m \u001b[43mfem\u001b[49m\u001b[38;5;241;43m.\u001b[39;49m\u001b[43mFunctionSpace\u001b[49m\u001b[43m(\u001b[49m\u001b[43mmsh1\u001b[49m\u001b[43m,\u001b[49m\u001b[43m \u001b[49m\u001b[43melement\u001b[49m\u001b[38;5;241;43m=\u001b[39;49m\u001b[43m \u001b[49m\u001b[38;5;124;43m'\u001b[39;49m\u001b[38;5;124;43mN1curl\u001b[39;49m\u001b[38;5;124;43m'\u001b[39;49m\u001b[43m,\u001b[49m\u001b[43m \u001b[49m\u001b[43mcppV\u001b[49m\u001b[38;5;241;43m=\u001b[39;49m\u001b[38;5;241;43m1\u001b[39;49m\u001b[43m)\u001b[49m \u001b[38;5;66;03m#\"N1curl\", 1)\u001b[39;00m\n\u001b[1;32m      3\u001b[0m \u001b[38;5;66;03m# Define basis and bilinear form\u001b[39;00m\n\u001b[1;32m      4\u001b[0m u \u001b[38;5;241m=\u001b[39m fem\u001b[38;5;241m.\u001b[39mTrialFunction(V)\n",
      "File \u001b[0;32m~/miniforge3/envs/FEniCS/lib/python3.13/site-packages/dolfinx/fem/function.py:673\u001b[0m, in \u001b[0;36mFunctionSpace.__init__\u001b[0;34m(self, mesh, element, cppV)\u001b[0m\n\u001b[1;32m    655\u001b[0m \u001b[38;5;28;01mdef\u001b[39;00m \u001b[38;5;21m__init__\u001b[39m(\n\u001b[1;32m    656\u001b[0m     \u001b[38;5;28mself\u001b[39m,\n\u001b[1;32m    657\u001b[0m     mesh: Mesh,\n\u001b[1;32m    658\u001b[0m     element: ufl\u001b[38;5;241m.\u001b[39mFiniteElementBase,\n\u001b[1;32m    659\u001b[0m     cppV: typing\u001b[38;5;241m.\u001b[39mUnion[_cpp\u001b[38;5;241m.\u001b[39mfem\u001b[38;5;241m.\u001b[39mFunctionSpace_float32, _cpp\u001b[38;5;241m.\u001b[39mfem\u001b[38;5;241m.\u001b[39mFunctionSpace_float64],\n\u001b[1;32m    660\u001b[0m ):\n\u001b[1;32m    661\u001b[0m \u001b[38;5;250m    \u001b[39m\u001b[38;5;124;03m\"\"\"Create a finite element function space.\u001b[39;00m\n\u001b[1;32m    662\u001b[0m \n\u001b[1;32m    663\u001b[0m \u001b[38;5;124;03m    Note:\u001b[39;00m\n\u001b[0;32m   (...)\u001b[0m\n\u001b[1;32m    671\u001b[0m \u001b[38;5;124;03m        cppV: Compiled C++ function space.\u001b[39;00m\n\u001b[1;32m    672\u001b[0m \u001b[38;5;124;03m    \"\"\"\u001b[39;00m\n\u001b[0;32m--> 673\u001b[0m     \u001b[38;5;28;01mif\u001b[39;00m mesh\u001b[38;5;241m.\u001b[39m_cpp_object \u001b[38;5;129;01mis\u001b[39;00m \u001b[38;5;129;01mnot\u001b[39;00m \u001b[43mcppV\u001b[49m\u001b[38;5;241;43m.\u001b[39;49m\u001b[43mmesh\u001b[49m:\n\u001b[1;32m    674\u001b[0m         \u001b[38;5;28;01mraise\u001b[39;00m \u001b[38;5;167;01mRuntimeError\u001b[39;00m(\u001b[38;5;124m\"\u001b[39m\u001b[38;5;124mMeshes do not match in function space initialisation.\u001b[39m\u001b[38;5;124m\"\u001b[39m)\n\u001b[1;32m    675\u001b[0m     ufl_domain \u001b[38;5;241m=\u001b[39m mesh\u001b[38;5;241m.\u001b[39mufl_domain()\n",
      "\u001b[0;31mAttributeError\u001b[0m: 'int' object has no attribute 'mesh'"
     ]
    }
   ],
   "source": [
    "print(type(msh1))\n",
    "V = fem.FunctionSpace(msh1, element= 'N1curl', cppV=1) #\"N1curl\", 1)\n",
    "# Define basis and bilinear form\n",
    "u = fem.TrialFunction(V)\n",
    "v = fem.TestFunction(V)"
   ]
  },
  {
   "cell_type": "markdown",
   "metadata": {},
   "source": [
    " To apply the Dirichlet boundary conditions, we find the mesh facets\n",
    " (entities of topological co-dimension 1) that lie on the boundary\n",
    " $\\Gamma_D$ using {py:func}`locate_entities_boundary\n",
    "<dolfinx.mesh.locate_entities_boundary>`. The function is provided\n",
    " with a 'marker' function that returns `True` for points `x` on the\n",
    "boundary and `False` otherwise."
   ]
  },
  {
   "cell_type": "code",
   "execution_count": null,
   "metadata": {},
   "outputs": [],
   "source": [
    "facets = mesh.locate_entities_boundary(\n",
    "    msh,\n",
    "    dim=(msh.topology.dim - 1),\n",
    "    marker=lambda x: np.isclose(x[0], 0.0) | np.isclose(x[0], 2.0),\n",
    ")"
   ]
  },
  {
   "cell_type": "markdown",
   "metadata": {},
   "source": [
    "We now find the degrees-of-freedom that are associated with the\n",
    "boundary facets using {py:func}`locate_dofs_topological\n",
    "<dolfinx.fem.locate_dofs_topological>`:\n",
    "\n",
    "and use {py:func}`dirichletbc <dolfinx.fem.dirichletbc>` to create a\n",
    "{py:class}`DirichletBC <dolfinx.fem.DirichletBC>` class that\n",
    "represents the boundary condition:"
   ]
  },
  {
   "cell_type": "code",
   "execution_count": null,
   "metadata": {},
   "outputs": [],
   "source": [
    "dofs = fem.locate_dofs_topological(V=V, entity_dim=1, entities=facets)\n",
    "bc = fem.dirichletbc(value=ScalarType(0), dofs=dofs, V=V)\n"
   ]
  },
  {
   "cell_type": "markdown",
   "metadata": {},
   "source": [
    "Next we define the variationaly formulation:\n",
    "\n",
    "$$ \\nabla \\times  \\left(\\frac{1}{\\mu} \\nabla \\times \\mathbf{E}(\\mathbf{r},\\omega) \\right) = \\omega^2 \\varepsilon \\mathbf{E}(\\mathbf{r},\\omega) $$\n",
    "$$ \\nabla \\times E \\times n = g_N \\quad \\partial \\Omega_N$$\n",
    "$$ E \\times n = g_D \\quad \\partial \\Omega _D $$\n",
    "\n",
    "Through integration by parts we get,\n",
    "$$ \\int_\\Omega (\\nabla \\times \\underline{E}) \\cdot \\nabla \\times \\underline{v}\\ d\\Omega - \\int_{\\partial\\Omega_N}   (\\nabla \\times \\underline{E}) \\cdot (\\nabla \\times \\underline{v} \\ \\partial\\Omega_N - \\omega^2 \\varepsilon \\int_\\Omega \\underline{E}\\underline{v}\\ d\\Omega= 0$$ \n",
    ",\n",
    "\n",
    "by using: https://en.wikipedia.org/wiki/Triple_product"
   ]
  },
  {
   "cell_type": "code",
   "execution_count": null,
   "metadata": {},
   "outputs": [],
   "source": []
  }
 ],
 "metadata": {
  "kernelspec": {
   "display_name": "FEniCS",
   "language": "python",
   "name": "python3"
  },
  "language_info": {
   "codemirror_mode": {
    "name": "ipython",
    "version": 3
   },
   "file_extension": ".py",
   "mimetype": "text/x-python",
   "name": "python",
   "nbconvert_exporter": "python",
   "pygments_lexer": "ipython3",
   "version": "3.13.0"
  }
 },
 "nbformat": 4,
 "nbformat_minor": 2
}
